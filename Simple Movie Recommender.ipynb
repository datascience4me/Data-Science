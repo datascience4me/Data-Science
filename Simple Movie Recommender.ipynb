{
 "cells": [
  {
   "cell_type": "code",
   "execution_count": 1,
   "metadata": {
    "collapsed": false
   },
   "outputs": [],
   "source": [
    "import pandas as pd\n",
    "import numpy as np"
   ]
  },
  {
   "cell_type": "code",
   "execution_count": 2,
   "metadata": {
    "collapsed": false
   },
   "outputs": [],
   "source": [
    "# Loading the movie ratings dataset into a DataFrame\n",
    "M = pd.read_csv(\"Movie Reviews.csv\", index_col='Name')"
   ]
  },
  {
   "cell_type": "code",
   "execution_count": 3,
   "metadata": {
    "collapsed": false
   },
   "outputs": [
    {
     "data": {
      "text/html": [
       "<div>\n",
       "<table border=\"1\" class=\"dataframe\">\n",
       "  <thead>\n",
       "    <tr style=\"text-align: right;\">\n",
       "      <th></th>\n",
       "      <th>American Sniper</th>\n",
       "      <th>The Hunger Games: Mockingjay - Part 1</th>\n",
       "      <th>Guardians of the Galaxy</th>\n",
       "      <th>The Lego Movie</th>\n",
       "      <th>The Hobbit</th>\n",
       "      <th>Transformers</th>\n",
       "      <th>Malificent</th>\n",
       "      <th>Big Hero 6</th>\n",
       "      <th>Godzilla</th>\n",
       "      <th>Interstellar</th>\n",
       "      <th>How to Train your Dragon 2</th>\n",
       "      <th>Gone Girl</th>\n",
       "      <th>Divergent</th>\n",
       "      <th>The Fault in Our Stars</th>\n",
       "      <th>Unbroken</th>\n",
       "      <th>300: Rise of an Empire</th>\n",
       "    </tr>\n",
       "    <tr>\n",
       "      <th>Name</th>\n",
       "      <th></th>\n",
       "      <th></th>\n",
       "      <th></th>\n",
       "      <th></th>\n",
       "      <th></th>\n",
       "      <th></th>\n",
       "      <th></th>\n",
       "      <th></th>\n",
       "      <th></th>\n",
       "      <th></th>\n",
       "      <th></th>\n",
       "      <th></th>\n",
       "      <th></th>\n",
       "      <th></th>\n",
       "      <th></th>\n",
       "      <th></th>\n",
       "    </tr>\n",
       "  </thead>\n",
       "  <tbody>\n",
       "    <tr>\n",
       "      <th>Trisha Moyer</th>\n",
       "      <td>4.0</td>\n",
       "      <td>5.0</td>\n",
       "      <td>NaN</td>\n",
       "      <td>5.0</td>\n",
       "      <td>NaN</td>\n",
       "      <td>2.0</td>\n",
       "      <td>NaN</td>\n",
       "      <td>5.0</td>\n",
       "      <td>NaN</td>\n",
       "      <td>NaN</td>\n",
       "      <td>4.0</td>\n",
       "      <td>NaN</td>\n",
       "      <td>NaN</td>\n",
       "      <td>NaN</td>\n",
       "      <td>NaN</td>\n",
       "      <td>NaN</td>\n",
       "    </tr>\n",
       "    <tr>\n",
       "      <th>Vikram Reddy</th>\n",
       "      <td>NaN</td>\n",
       "      <td>3.0</td>\n",
       "      <td>4.0</td>\n",
       "      <td>NaN</td>\n",
       "      <td>4.0</td>\n",
       "      <td>3.0</td>\n",
       "      <td>3.0</td>\n",
       "      <td>4.0</td>\n",
       "      <td>3.0</td>\n",
       "      <td>5.0</td>\n",
       "      <td>4.0</td>\n",
       "      <td>4.0</td>\n",
       "      <td>NaN</td>\n",
       "      <td>4.0</td>\n",
       "      <td>NaN</td>\n",
       "      <td>2.0</td>\n",
       "    </tr>\n",
       "    <tr>\n",
       "      <th>Camron  Khan</th>\n",
       "      <td>4.0</td>\n",
       "      <td>4.0</td>\n",
       "      <td>3.0</td>\n",
       "      <td>2.0</td>\n",
       "      <td>3.0</td>\n",
       "      <td>NaN</td>\n",
       "      <td>NaN</td>\n",
       "      <td>NaN</td>\n",
       "      <td>3.0</td>\n",
       "      <td>4.0</td>\n",
       "      <td>NaN</td>\n",
       "      <td>4.0</td>\n",
       "      <td>NaN</td>\n",
       "      <td>NaN</td>\n",
       "      <td>4.0</td>\n",
       "      <td>NaN</td>\n",
       "    </tr>\n",
       "    <tr>\n",
       "      <th>Prachi Jain</th>\n",
       "      <td>NaN</td>\n",
       "      <td>3.0</td>\n",
       "      <td>NaN</td>\n",
       "      <td>NaN</td>\n",
       "      <td>4.0</td>\n",
       "      <td>2.5</td>\n",
       "      <td>NaN</td>\n",
       "      <td>2.0</td>\n",
       "      <td>3.0</td>\n",
       "      <td>5.0</td>\n",
       "      <td>4.0</td>\n",
       "      <td>4.0</td>\n",
       "      <td>3.0</td>\n",
       "      <td>5.0</td>\n",
       "      <td>NaN</td>\n",
       "      <td>4.0</td>\n",
       "    </tr>\n",
       "    <tr>\n",
       "      <th>Randy Moyers</th>\n",
       "      <td>4.0</td>\n",
       "      <td>4.0</td>\n",
       "      <td>5.0</td>\n",
       "      <td>NaN</td>\n",
       "      <td>4.0</td>\n",
       "      <td>3.0</td>\n",
       "      <td>NaN</td>\n",
       "      <td>NaN</td>\n",
       "      <td>3.0</td>\n",
       "      <td>4.0</td>\n",
       "      <td>3.0</td>\n",
       "      <td>NaN</td>\n",
       "      <td>4.0</td>\n",
       "      <td>NaN</td>\n",
       "      <td>NaN</td>\n",
       "      <td>3.0</td>\n",
       "    </tr>\n",
       "    <tr>\n",
       "      <th>Sailokesh</th>\n",
       "      <td>5.0</td>\n",
       "      <td>4.0</td>\n",
       "      <td>4.0</td>\n",
       "      <td>3.0</td>\n",
       "      <td>5.0</td>\n",
       "      <td>4.0</td>\n",
       "      <td>NaN</td>\n",
       "      <td>NaN</td>\n",
       "      <td>4.0</td>\n",
       "      <td>5.0</td>\n",
       "      <td>3.0</td>\n",
       "      <td>NaN</td>\n",
       "      <td>NaN</td>\n",
       "      <td>4.0</td>\n",
       "      <td>NaN</td>\n",
       "      <td>3.0</td>\n",
       "    </tr>\n",
       "    <tr>\n",
       "      <th>Jemberie A</th>\n",
       "      <td>5.0</td>\n",
       "      <td>2.0</td>\n",
       "      <td>2.0</td>\n",
       "      <td>2.0</td>\n",
       "      <td>2.0</td>\n",
       "      <td>3.0</td>\n",
       "      <td>NaN</td>\n",
       "      <td>NaN</td>\n",
       "      <td>2.0</td>\n",
       "      <td>NaN</td>\n",
       "      <td>NaN</td>\n",
       "      <td>NaN</td>\n",
       "      <td>NaN</td>\n",
       "      <td>NaN</td>\n",
       "      <td>NaN</td>\n",
       "      <td>NaN</td>\n",
       "    </tr>\n",
       "    <tr>\n",
       "      <th>Anupom Syam</th>\n",
       "      <td>NaN</td>\n",
       "      <td>NaN</td>\n",
       "      <td>3.0</td>\n",
       "      <td>NaN</td>\n",
       "      <td>3.0</td>\n",
       "      <td>3.0</td>\n",
       "      <td>NaN</td>\n",
       "      <td>5.0</td>\n",
       "      <td>3.0</td>\n",
       "      <td>4.0</td>\n",
       "      <td>4.0</td>\n",
       "      <td>4.0</td>\n",
       "      <td>NaN</td>\n",
       "      <td>NaN</td>\n",
       "      <td>NaN</td>\n",
       "      <td>5.0</td>\n",
       "    </tr>\n",
       "    <tr>\n",
       "      <th>Supehr Zangeneh</th>\n",
       "      <td>4.0</td>\n",
       "      <td>4.0</td>\n",
       "      <td>NaN</td>\n",
       "      <td>NaN</td>\n",
       "      <td>NaN</td>\n",
       "      <td>NaN</td>\n",
       "      <td>NaN</td>\n",
       "      <td>NaN</td>\n",
       "      <td>NaN</td>\n",
       "      <td>NaN</td>\n",
       "      <td>NaN</td>\n",
       "      <td>NaN</td>\n",
       "      <td>NaN</td>\n",
       "      <td>NaN</td>\n",
       "      <td>NaN</td>\n",
       "      <td>4.0</td>\n",
       "    </tr>\n",
       "    <tr>\n",
       "      <th>Karan Deepak Kanwar</th>\n",
       "      <td>5.0</td>\n",
       "      <td>NaN</td>\n",
       "      <td>4.0</td>\n",
       "      <td>5.0</td>\n",
       "      <td>4.0</td>\n",
       "      <td>5.0</td>\n",
       "      <td>NaN</td>\n",
       "      <td>NaN</td>\n",
       "      <td>5.0</td>\n",
       "      <td>4.0</td>\n",
       "      <td>3.0</td>\n",
       "      <td>4.0</td>\n",
       "      <td>NaN</td>\n",
       "      <td>5.0</td>\n",
       "      <td>NaN</td>\n",
       "      <td>4.0</td>\n",
       "    </tr>\n",
       "    <tr>\n",
       "      <th>Mark Dang</th>\n",
       "      <td>NaN</td>\n",
       "      <td>NaN</td>\n",
       "      <td>4.0</td>\n",
       "      <td>NaN</td>\n",
       "      <td>2.0</td>\n",
       "      <td>2.0</td>\n",
       "      <td>3.0</td>\n",
       "      <td>5.0</td>\n",
       "      <td>NaN</td>\n",
       "      <td>5.0</td>\n",
       "      <td>NaN</td>\n",
       "      <td>NaN</td>\n",
       "      <td>NaN</td>\n",
       "      <td>NaN</td>\n",
       "      <td>NaN</td>\n",
       "      <td>3.0</td>\n",
       "    </tr>\n",
       "    <tr>\n",
       "      <th>Jensen Hou</th>\n",
       "      <td>5.0</td>\n",
       "      <td>3.0</td>\n",
       "      <td>3.0</td>\n",
       "      <td>5.0</td>\n",
       "      <td>3.0</td>\n",
       "      <td>2.0</td>\n",
       "      <td>NaN</td>\n",
       "      <td>5.0</td>\n",
       "      <td>3.0</td>\n",
       "      <td>5.0</td>\n",
       "      <td>4.0</td>\n",
       "      <td>4.0</td>\n",
       "      <td>4.0</td>\n",
       "      <td>NaN</td>\n",
       "      <td>NaN</td>\n",
       "      <td>NaN</td>\n",
       "    </tr>\n",
       "    <tr>\n",
       "      <th>Moses Stanley</th>\n",
       "      <td>5.0</td>\n",
       "      <td>NaN</td>\n",
       "      <td>3.0</td>\n",
       "      <td>NaN</td>\n",
       "      <td>3.0</td>\n",
       "      <td>4.0</td>\n",
       "      <td>NaN</td>\n",
       "      <td>NaN</td>\n",
       "      <td>4.0</td>\n",
       "      <td>5.0</td>\n",
       "      <td>NaN</td>\n",
       "      <td>NaN</td>\n",
       "      <td>NaN</td>\n",
       "      <td>NaN</td>\n",
       "      <td>NaN</td>\n",
       "      <td>4.0</td>\n",
       "    </tr>\n",
       "    <tr>\n",
       "      <th>Vibhor Sharma</th>\n",
       "      <td>5.0</td>\n",
       "      <td>3.0</td>\n",
       "      <td>4.0</td>\n",
       "      <td>NaN</td>\n",
       "      <td>4.0</td>\n",
       "      <td>3.0</td>\n",
       "      <td>3.0</td>\n",
       "      <td>4.0</td>\n",
       "      <td>3.0</td>\n",
       "      <td>5.0</td>\n",
       "      <td>3.0</td>\n",
       "      <td>5.0</td>\n",
       "      <td>4.0</td>\n",
       "      <td>3.0</td>\n",
       "      <td>4.0</td>\n",
       "      <td>5.0</td>\n",
       "    </tr>\n",
       "    <tr>\n",
       "      <th>Jeremy Embalabala</th>\n",
       "      <td>5.0</td>\n",
       "      <td>4.0</td>\n",
       "      <td>NaN</td>\n",
       "      <td>NaN</td>\n",
       "      <td>3.0</td>\n",
       "      <td>3.0</td>\n",
       "      <td>NaN</td>\n",
       "      <td>NaN</td>\n",
       "      <td>NaN</td>\n",
       "      <td>NaN</td>\n",
       "      <td>NaN</td>\n",
       "      <td>NaN</td>\n",
       "      <td>NaN</td>\n",
       "      <td>NaN</td>\n",
       "      <td>NaN</td>\n",
       "      <td>4.0</td>\n",
       "    </tr>\n",
       "  </tbody>\n",
       "</table>\n",
       "</div>"
      ],
      "text/plain": [
       "                     American Sniper  The Hunger Games: Mockingjay - Part 1  \\\n",
       "Name                                                                          \n",
       "Trisha Moyer                     4.0                                    5.0   \n",
       "Vikram Reddy                     NaN                                    3.0   \n",
       "Camron  Khan                     4.0                                    4.0   \n",
       "Prachi Jain                      NaN                                    3.0   \n",
       "Randy Moyers                     4.0                                    4.0   \n",
       "Sailokesh                        5.0                                    4.0   \n",
       "Jemberie A                       5.0                                    2.0   \n",
       "Anupom Syam                      NaN                                    NaN   \n",
       "Supehr Zangeneh                  4.0                                    4.0   \n",
       "Karan Deepak Kanwar              5.0                                    NaN   \n",
       "Mark Dang                        NaN                                    NaN   \n",
       "Jensen Hou                       5.0                                    3.0   \n",
       "Moses Stanley                    5.0                                    NaN   \n",
       "Vibhor Sharma                    5.0                                    3.0   \n",
       "Jeremy Embalabala                5.0                                    4.0   \n",
       "\n",
       "                     Guardians of the Galaxy  The Lego Movie  The Hobbit  \\\n",
       "Name                                                                       \n",
       "Trisha Moyer                             NaN             5.0         NaN   \n",
       "Vikram Reddy                             4.0             NaN         4.0   \n",
       "Camron  Khan                             3.0             2.0         3.0   \n",
       "Prachi Jain                              NaN             NaN         4.0   \n",
       "Randy Moyers                             5.0             NaN         4.0   \n",
       "Sailokesh                                4.0             3.0         5.0   \n",
       "Jemberie A                               2.0             2.0         2.0   \n",
       "Anupom Syam                              3.0             NaN         3.0   \n",
       "Supehr Zangeneh                          NaN             NaN         NaN   \n",
       "Karan Deepak Kanwar                      4.0             5.0         4.0   \n",
       "Mark Dang                                4.0             NaN         2.0   \n",
       "Jensen Hou                               3.0             5.0         3.0   \n",
       "Moses Stanley                            3.0             NaN         3.0   \n",
       "Vibhor Sharma                            4.0             NaN         4.0   \n",
       "Jeremy Embalabala                        NaN             NaN         3.0   \n",
       "\n",
       "                     Transformers  Malificent  Big Hero 6  Godzilla  \\\n",
       "Name                                                                  \n",
       "Trisha Moyer                  2.0         NaN         5.0       NaN   \n",
       "Vikram Reddy                  3.0         3.0         4.0       3.0   \n",
       "Camron  Khan                  NaN         NaN         NaN       3.0   \n",
       "Prachi Jain                   2.5         NaN         2.0       3.0   \n",
       "Randy Moyers                  3.0         NaN         NaN       3.0   \n",
       "Sailokesh                     4.0         NaN         NaN       4.0   \n",
       "Jemberie A                    3.0         NaN         NaN       2.0   \n",
       "Anupom Syam                   3.0         NaN         5.0       3.0   \n",
       "Supehr Zangeneh               NaN         NaN         NaN       NaN   \n",
       "Karan Deepak Kanwar           5.0         NaN         NaN       5.0   \n",
       "Mark Dang                     2.0         3.0         5.0       NaN   \n",
       "Jensen Hou                    2.0         NaN         5.0       3.0   \n",
       "Moses Stanley                 4.0         NaN         NaN       4.0   \n",
       "Vibhor Sharma                 3.0         3.0         4.0       3.0   \n",
       "Jeremy Embalabala             3.0         NaN         NaN       NaN   \n",
       "\n",
       "                     Interstellar  How to Train your Dragon 2  Gone Girl  \\\n",
       "Name                                                                       \n",
       "Trisha Moyer                  NaN                         4.0        NaN   \n",
       "Vikram Reddy                  5.0                         4.0        4.0   \n",
       "Camron  Khan                  4.0                         NaN        4.0   \n",
       "Prachi Jain                   5.0                         4.0        4.0   \n",
       "Randy Moyers                  4.0                         3.0        NaN   \n",
       "Sailokesh                     5.0                         3.0        NaN   \n",
       "Jemberie A                    NaN                         NaN        NaN   \n",
       "Anupom Syam                   4.0                         4.0        4.0   \n",
       "Supehr Zangeneh               NaN                         NaN        NaN   \n",
       "Karan Deepak Kanwar           4.0                         3.0        4.0   \n",
       "Mark Dang                     5.0                         NaN        NaN   \n",
       "Jensen Hou                    5.0                         4.0        4.0   \n",
       "Moses Stanley                 5.0                         NaN        NaN   \n",
       "Vibhor Sharma                 5.0                         3.0        5.0   \n",
       "Jeremy Embalabala             NaN                         NaN        NaN   \n",
       "\n",
       "                     Divergent  The Fault in Our Stars  Unbroken  \\\n",
       "Name                                                               \n",
       "Trisha Moyer               NaN                     NaN       NaN   \n",
       "Vikram Reddy               NaN                     4.0       NaN   \n",
       "Camron  Khan               NaN                     NaN       4.0   \n",
       "Prachi Jain                3.0                     5.0       NaN   \n",
       "Randy Moyers               4.0                     NaN       NaN   \n",
       "Sailokesh                  NaN                     4.0       NaN   \n",
       "Jemberie A                 NaN                     NaN       NaN   \n",
       "Anupom Syam                NaN                     NaN       NaN   \n",
       "Supehr Zangeneh            NaN                     NaN       NaN   \n",
       "Karan Deepak Kanwar        NaN                     5.0       NaN   \n",
       "Mark Dang                  NaN                     NaN       NaN   \n",
       "Jensen Hou                 4.0                     NaN       NaN   \n",
       "Moses Stanley              NaN                     NaN       NaN   \n",
       "Vibhor Sharma              4.0                     3.0       4.0   \n",
       "Jeremy Embalabala          NaN                     NaN       NaN   \n",
       "\n",
       "                     300: Rise of an Empire  \n",
       "Name                                         \n",
       "Trisha Moyer                            NaN  \n",
       "Vikram Reddy                            2.0  \n",
       "Camron  Khan                            NaN  \n",
       "Prachi Jain                             4.0  \n",
       "Randy Moyers                            3.0  \n",
       "Sailokesh                               3.0  \n",
       "Jemberie A                              NaN  \n",
       "Anupom Syam                             5.0  \n",
       "Supehr Zangeneh                         4.0  \n",
       "Karan Deepak Kanwar                     4.0  \n",
       "Mark Dang                               3.0  \n",
       "Jensen Hou                              NaN  \n",
       "Moses Stanley                           4.0  \n",
       "Vibhor Sharma                           5.0  \n",
       "Jeremy Embalabala                       4.0  "
      ]
     },
     "execution_count": 3,
     "metadata": {},
     "output_type": "execute_result"
    }
   ],
   "source": [
    "M.tail(15)"
   ]
  },
  {
   "cell_type": "code",
   "execution_count": 4,
   "metadata": {
    "collapsed": false
   },
   "outputs": [
    {
     "data": {
      "text/plain": [
       "Index(['American Sniper', 'The Hunger Games: Mockingjay - Part 1',\n",
       "       'Guardians of the Galaxy', 'The Lego Movie', 'The Hobbit',\n",
       "       'Transformers', 'Malificent', 'Big Hero 6', 'Godzilla', 'Interstellar',\n",
       "       'How to Train your Dragon 2', 'Gone Girl', 'Divergent',\n",
       "       'The Fault in Our Stars', 'Unbroken', '300: Rise of an Empire'],\n",
       "      dtype='object')"
      ]
     },
     "execution_count": 4,
     "metadata": {},
     "output_type": "execute_result"
    }
   ],
   "source": [
    "M.columns"
   ]
  },
  {
   "cell_type": "code",
   "execution_count": 5,
   "metadata": {
    "collapsed": false
   },
   "outputs": [],
   "source": [
    "def pearson(s1, s2):\n",
    "    \"\"\"Take two pd.Series objects and return a pearson correlation.\"\"\"\n",
    "    s1_c = s1 - s1.mean()\n",
    "    s2_c = s2 - s2.mean()\n",
    "    return np.sum(s1_c * s2_c) / np.sqrt(np.sum(s1_c ** 2) * np.sum(s2_c ** 2))"
   ]
  },
  {
   "cell_type": "code",
   "execution_count": 6,
   "metadata": {
    "collapsed": false
   },
   "outputs": [],
   "source": [
    "def get_recs(movie_name, M, num):\n",
    "    \"\"\"Generating recommendations with Pearson's correlation.\"\"\"\n",
    "    reviews = []\n",
    "    for title in M.columns:\n",
    "        if title == movie_name:\n",
    "            continue\n",
    "        cor = pearson(M[movie_name], M[title])\n",
    "        if np.isnan(cor):\n",
    "            continue\n",
    "        else:\n",
    "            reviews.append((title, cor))\n",
    "    \n",
    "    reviews.sort(key=lambda tup: tup[1], reverse=True)\n",
    "    return reviews[:num]"
   ]
  },
  {
   "cell_type": "markdown",
   "metadata": {},
   "source": [
    "#### Question 1:  What movie is most Similar to 'The fault in our stars' \n"
   ]
  },
  {
   "cell_type": "code",
   "execution_count": 7,
   "metadata": {
    "collapsed": false
   },
   "outputs": [
    {
     "data": {
      "text/plain": [
       "[('Malificent', 0.20279670863265634)]"
      ]
     },
     "execution_count": 7,
     "metadata": {},
     "output_type": "execute_result"
    }
   ],
   "source": [
    "rec = get_recs(\"The Fault in Our Stars\", M, 1)\n",
    "rec"
   ]
  },
  {
   "cell_type": "markdown",
   "metadata": {},
   "source": [
    "'Malificent' seems to be the similar movie to 'The fault in our stars'"
   ]
  },
  {
   "cell_type": "markdown",
   "metadata": {},
   "source": [
    "#### Question 2:  Which movie(s) would you most like to see, based on your peers experience? "
   ]
  },
  {
   "cell_type": "code",
   "execution_count": 17,
   "metadata": {
    "collapsed": false
   },
   "outputs": [
    {
     "name": "stderr",
     "output_type": "stream",
     "text": [
      "/Users/VKY/anaconda/lib/python3.6/site-packages/ipykernel/__main__.py:4: FutureWarning: sort is deprecated, use sort_values(inplace=True) for INPLACE sorting\n"
     ]
    }
   ],
   "source": [
    "#the movies I've seen\n",
    "my_ratings = M.ix['Vikram Reddy'].dropna()\n",
    "#the movie I've rated the highest\n",
    "my_ratings.sort(ascending=False)\n",
    "#the name of the movie I've rated the highest\n",
    "fav_movie = my_ratings.index[0]"
   ]
  },
  {
   "cell_type": "code",
   "execution_count": 18,
   "metadata": {
    "collapsed": false
   },
   "outputs": [
    {
     "data": {
      "text/plain": [
       "'Interstellar'"
      ]
     },
     "execution_count": 18,
     "metadata": {},
     "output_type": "execute_result"
    }
   ],
   "source": [
    "fav_movie"
   ]
  },
  {
   "cell_type": "code",
   "execution_count": 19,
   "metadata": {
    "collapsed": false
   },
   "outputs": [
    {
     "data": {
      "text/plain": [
       "[('Godzilla', 0.21564231153742167),\n",
       " ('Transformers', 0.20359378351294521),\n",
       " ('The Fault in Our Stars', 0.1983237371559213)]"
      ]
     },
     "execution_count": 19,
     "metadata": {},
     "output_type": "execute_result"
    }
   ],
   "source": [
    "recs_movies = get_recs(fav_movie, M, 3)\n",
    "recs_movies"
   ]
  },
  {
   "cell_type": "markdown",
   "metadata": {},
   "source": [
    "Based on my peers ratings I would like to watch the above movies considering my best rated movie."
   ]
  },
  {
   "cell_type": "markdown",
   "metadata": {},
   "source": [
    "#### Question 3: Bonus Question...  For all the movies you haven't seen, can you predict how you'd rate them using your peers reviews? "
   ]
  },
  {
   "cell_type": "code",
   "execution_count": 20,
   "metadata": {
    "collapsed": false
   },
   "outputs": [],
   "source": [
    "unrated = M.ix[\"Vikram Reddy\"]"
   ]
  },
  {
   "cell_type": "code",
   "execution_count": 21,
   "metadata": {
    "collapsed": false
   },
   "outputs": [
    {
     "data": {
      "text/plain": [
       "American Sniper   NaN\n",
       "The Lego Movie    NaN\n",
       "Divergent         NaN\n",
       "Unbroken          NaN\n",
       "Name: Vikram Reddy, dtype: float64"
      ]
     },
     "execution_count": 21,
     "metadata": {},
     "output_type": "execute_result"
    }
   ],
   "source": [
    "unrated.loc[unrated.isnull()]"
   ]
  },
  {
   "cell_type": "code",
   "execution_count": 22,
   "metadata": {
    "collapsed": true
   },
   "outputs": [],
   "source": [
    "unrated_movies = [\"American Sniper\", \"The Lego Movie\", \"Divergent\", \"Unbroken\"]"
   ]
  },
  {
   "cell_type": "code",
   "execution_count": 23,
   "metadata": {
    "collapsed": false
   },
   "outputs": [
    {
     "name": "stdout",
     "output_type": "stream",
     "text": [
      "Correlation of American Sniper : [('Gone Girl', 0.19007632027714286)]\n",
      "Correlation of The Lego Movie : [('Guardians of the Galaxy', 0.41457413987832908)]\n",
      "Correlation of Divergent : [('300: Rise of an Empire', 0.30066335497916058)]\n",
      "Correlation of Unbroken : [('Divergent', 0.16673468967345761)]\n"
     ]
    }
   ],
   "source": [
    "for movie in unrated_movies:\n",
    "    print(\"Correlation of\", movie, \":\", get_recs(movie, M, 1))"
   ]
  },
  {
   "cell_type": "code",
   "execution_count": 24,
   "metadata": {
    "collapsed": false
   },
   "outputs": [],
   "source": [
    "def pred_ratings(movie):\n",
    "    \"\"\"Calculating the average ratings of the correlated movies to get the predictions\"\"\"\n",
    "    rec_movie = get_recs(movie, M, 1)\n",
    "    for title in rec_movie:\n",
    "        movie_title = title[0]\n",
    "\n",
    "    movie_rating = M[movie_title].mean() \n",
    "    return (movie, round(movie_rating,1))"
   ]
  },
  {
   "cell_type": "code",
   "execution_count": 25,
   "metadata": {
    "collapsed": false
   },
   "outputs": [
    {
     "name": "stdout",
     "output_type": "stream",
     "text": [
      "My predicted rating of ('American Sniper', 4.0) based on my peers ratings\n",
      "My predicted rating of ('The Lego Movie', 3.8) based on my peers ratings\n",
      "My predicted rating of ('Divergent', 3.7) based on my peers ratings\n",
      "My predicted rating of ('Unbroken', 3.3) based on my peers ratings\n"
     ]
    }
   ],
   "source": [
    "for movie in unrated_movies:\n",
    "    ratings = pred_ratings(movie)\n",
    "    print(\"My predicted rating of\", ratings, \"based on my peers ratings\")"
   ]
  },
  {
   "cell_type": "markdown",
   "metadata": {},
   "source": [
    "'American Sniper' would be highely recommended for me as per the predicted ratings, which I would actually like to watch."
   ]
  },
  {
   "cell_type": "code",
   "execution_count": null,
   "metadata": {
    "collapsed": true
   },
   "outputs": [],
   "source": []
  }
 ],
 "metadata": {
  "kernelspec": {
   "display_name": "Python 3",
   "language": "python",
   "name": "python3"
  },
  "language_info": {
   "codemirror_mode": {
    "name": "ipython",
    "version": 3
   },
   "file_extension": ".py",
   "mimetype": "text/x-python",
   "name": "python",
   "nbconvert_exporter": "python",
   "pygments_lexer": "ipython3",
   "version": "3.6.0"
  }
 },
 "nbformat": 4,
 "nbformat_minor": 0
}
