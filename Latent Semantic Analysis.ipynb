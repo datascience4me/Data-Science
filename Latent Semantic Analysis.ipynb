{
 "cells": [
  {
   "cell_type": "code",
   "execution_count": 1,
   "metadata": {
    "collapsed": true
   },
   "outputs": [],
   "source": [
    "import nltk\n",
    "from bs4 import BeautifulSoup\n",
    "from nltk.corpus import stopwords\n",
    "from sklearn.feature_extraction.text import TfidfVectorizer\n",
    "from sklearn.decomposition import TruncatedSVD\n",
    "from sklearn.datasets import fetch_20newsgroups"
   ]
  },
  {
   "cell_type": "markdown",
   "metadata": {},
   "source": [
    "<li> Downloading the Autos data set "
   ]
  },
  {
   "cell_type": "code",
   "execution_count": 2,
   "metadata": {
    "collapsed": false
   },
   "outputs": [],
   "source": [
    "categories = ['rec.autos']\n",
    "dataset = fetch_20newsgroups(subset='all',shuffle=True, random_state=42, categories=categories)\n",
    "corpus = dataset.data"
   ]
  },
  {
   "cell_type": "markdown",
   "metadata": {},
   "source": [
    "<li> Download the stopwords"
   ]
  },
  {
   "cell_type": "code",
   "execution_count": 3,
   "metadata": {
    "collapsed": false
   },
   "outputs": [
    {
     "name": "stdout",
     "output_type": "stream",
     "text": [
      "[nltk_data] Downloading package stopwords to /Users/VKY/nltk_data...\n",
      "[nltk_data]   Package stopwords is already up-to-date!\n"
     ]
    },
    {
     "data": {
      "text/plain": [
       "True"
      ]
     },
     "execution_count": 3,
     "metadata": {},
     "output_type": "execute_result"
    }
   ],
   "source": [
    "nltk.download('stopwords')"
   ]
  },
  {
   "cell_type": "code",
   "execution_count": 4,
   "metadata": {
    "collapsed": false
   },
   "outputs": [
    {
     "data": {
      "text/plain": [
       "'From: mad9a@fermi.clas.Virginia.EDU (Michael A. Davis)\\nSubject: Slick 50, any good?\\nOrganization: University of Virginia\\nLines: 9\\n\\n\\n     Chances are that this has been discussed to death already, and\\nif so could someone who has kept the discussion mail me or direct me \\nto an archive site. Basically,\\nI am just wondering if Slick 50 really does all it says that it does.\\nAnd also, is there any data to support the claim.  Thanks for any info.\\n\\nMike Davis\\nmad9a@fermi.clas.virginia.edu\\n'"
      ]
     },
     "execution_count": 4,
     "metadata": {},
     "output_type": "execute_result"
    }
   ],
   "source": [
    "corpus[0]"
   ]
  },
  {
   "cell_type": "markdown",
   "metadata": {},
   "source": [
    "<li> Converting all words to lower case in the Corpus"
   ]
  },
  {
   "cell_type": "code",
   "execution_count": 5,
   "metadata": {
    "collapsed": true
   },
   "outputs": [],
   "source": [
    "corpus = [word.lower() for word in corpus]"
   ]
  },
  {
   "cell_type": "markdown",
   "metadata": {},
   "source": [
    "<li> Add useless words into the stopwords list"
   ]
  },
  {
   "cell_type": "code",
   "execution_count": 35,
   "metadata": {
    "collapsed": true
   },
   "outputs": [],
   "source": [
    "stopset = set(stopwords.words(\"english\"))\n",
    "stopset.update(['\\n', 'lines', 'from', 'thanks', 'for', 'info', 'and', 'this', 're', 'with', 'only', 'lots', 'room',\n",
    "                'that', 'subject', 'organization', 'if', 'so', 'it', 'does', 'any', 'even', 'very', 'was', 'around',\n",
    "                'are', 'me', 'to', 'says', 'could', 'an','death', 'already', 'basically', 'i', 'am', 'just', 'is', '>'\n",
    "                'there', 'here', 'but', 'waiiiiiit', 'guess', 'think', 'as', 'far', 'actually', 'may', 'little', '>>', \n",
    "               'edu', 'also', 'university', '00', '05', 'gmt', 'really', 'like', 'well', '0400', 'say', 'se', 'ca', \n",
    "               'one', 'lot', 'com', 'uiuc', 'uoknor', 'writes', 'acs', 'ohio', 'uoknox', 'manta', 'opel', 'would', \n",
    "               'gt', 'cso', 'good', 'acs', 'like', 'usa', 'host', 'andrew', 'also', 'one', 'get', 'uokmax', '16', '000',\n",
    "               'nntp', 'sho', 'cwru', 'oriolefan', 'uxa', '000601', 'still', 'news'])"
   ]
  },
  {
   "cell_type": "markdown",
   "metadata": {},
   "source": [
    "<li> Vectorizing the Corpus"
   ]
  },
  {
   "cell_type": "code",
   "execution_count": 36,
   "metadata": {
    "collapsed": true
   },
   "outputs": [],
   "source": [
    "vectorizer = TfidfVectorizer(stop_words=stopset, use_idf=True, ngram_range=(1, 3))\n"
   ]
  },
  {
   "cell_type": "markdown",
   "metadata": {},
   "source": [
    "<li> Creating a matrix for the vectorized corpus"
   ]
  },
  {
   "cell_type": "code",
   "execution_count": 37,
   "metadata": {
    "collapsed": true
   },
   "outputs": [],
   "source": [
    "X = vectorizer.fit_transform(corpus)"
   ]
  },
  {
   "cell_type": "code",
   "execution_count": 38,
   "metadata": {
    "collapsed": false
   },
   "outputs": [
    {
     "data": {
      "text/plain": [
       "<1x169513 sparse matrix of type '<class 'numpy.float64'>'\n",
       "\twith 73 stored elements in Compressed Sparse Row format>"
      ]
     },
     "execution_count": 38,
     "metadata": {},
     "output_type": "execute_result"
    }
   ],
   "source": [
    "X[0]"
   ]
  },
  {
   "cell_type": "code",
   "execution_count": 22,
   "metadata": {
    "collapsed": false
   },
   "outputs": [
    {
     "name": "stdout",
     "output_type": "stream",
     "text": [
      "  (0, 47178)\t0.107328038982\n",
      "  (0, 97098)\t0.107328038982\n",
      "  (0, 38400)\t0.101288573553\n",
      "  (0, 146397)\t0.101288573553\n",
      "  (0, 46998)\t0.101288573553\n",
      "  (0, 8378)\t0.101288573553\n",
      "  (0, 138469)\t0.101288573553\n",
      "  (0, 167498)\t0.101288573553\n",
      "  (0, 137939)\t0.101288573553\n",
      "  (0, 18746)\t0.101288573553\n",
      "  (0, 50986)\t0.101288573553\n",
      "  (0, 92621)\t0.101288573553\n",
      "  (0, 51457)\t0.101288573553\n",
      "  (0, 83843)\t0.101288573553\n",
      "  (0, 139761)\t0.101288573553\n",
      "  (0, 51419)\t0.101288573553\n",
      "  (0, 36400)\t0.101288573553\n",
      "  (0, 162341)\t0.107328038982\n",
      "  (0, 8441)\t0.107328038982\n",
      "  (0, 138474)\t0.107328038982\n",
      "  (0, 47180)\t0.107328038982\n",
      "  (0, 96763)\t0.107328038982\n",
      "  (0, 162362)\t0.101288573553\n",
      "  (0, 38490)\t0.101288573553\n",
      "  (0, 62682)\t0.202577147105\n",
      "  :\t:\n",
      "  (0, 38489)\t0.154631494383\n",
      "  (0, 62681)\t0.202577147105\n",
      "  (0, 92210)\t0.202577147105\n",
      "  (0, 97088)\t0.0680188723273\n",
      "  (0, 38366)\t0.0669912128473\n",
      "  (0, 146389)\t0.0746000394349\n",
      "  (0, 46950)\t0.0697069206041\n",
      "  (0, 167441)\t0.0585144618707\n",
      "  (0, 137925)\t0.0833552126206\n",
      "  (0, 18738)\t0.0849245737793\n",
      "  (0, 50984)\t0.0737946998208\n",
      "  (0, 92580)\t0.0481899275263\n",
      "  (0, 51429)\t0.0697069206041\n",
      "  (0, 83835)\t0.0806395048638\n",
      "  (0, 139687)\t0.0490578519152\n",
      "  (0, 51409)\t0.0783434066718\n",
      "  (0, 36398)\t0.0909640392082\n",
      "  (0, 8344)\t0.120608059915\n",
      "  (0, 138464)\t0.181928078416\n",
      "  (0, 47174)\t0.202577147105\n",
      "  (0, 96742)\t0.0723039412429\n",
      "  (0, 162321)\t0.178147158779\n",
      "  (0, 38488)\t0.154631494383\n",
      "  (0, 62680)\t0.194007009274\n",
      "  (0, 92209)\t0.202577147105\n"
     ]
    }
   ],
   "source": [
    "print(X[0])"
   ]
  },
  {
   "cell_type": "code",
   "execution_count": 39,
   "metadata": {
    "collapsed": false
   },
   "outputs": [
    {
     "data": {
      "text/plain": [
       "(990, 169513)"
      ]
     },
     "execution_count": 39,
     "metadata": {},
     "output_type": "execute_result"
    }
   ],
   "source": [
    "X.shape"
   ]
  },
  {
   "cell_type": "markdown",
   "metadata": {},
   "source": [
    "<li> Decomposing the matrix X "
   ]
  },
  {
   "cell_type": "code",
   "execution_count": 40,
   "metadata": {
    "collapsed": false
   },
   "outputs": [
    {
     "data": {
      "text/plain": [
       "TruncatedSVD(algorithm='randomized', n_components=10, n_iter=100,\n",
       "       random_state=None, tol=0.0)"
      ]
     },
     "execution_count": 40,
     "metadata": {},
     "output_type": "execute_result"
    }
   ],
   "source": [
    "lsa = TruncatedSVD(n_components=10, n_iter=100)\n",
    "lsa.fit(X)"
   ]
  },
  {
   "cell_type": "code",
   "execution_count": 41,
   "metadata": {
    "collapsed": false
   },
   "outputs": [
    {
     "data": {
      "text/plain": [
       "array([ 0.00047084,  0.00047084,  0.00047084, ...,  0.00042614,\n",
       "        0.00060031,  0.00060031])"
      ]
     },
     "execution_count": 41,
     "metadata": {},
     "output_type": "execute_result"
    }
   ],
   "source": [
    "lsa.components_[0]"
   ]
  },
  {
   "cell_type": "markdown",
   "metadata": {},
   "source": [
    "<li> Deriving concepts from the matrix"
   ]
  },
  {
   "cell_type": "code",
   "execution_count": 42,
   "metadata": {
    "collapsed": false
   },
   "outputs": [
    {
     "name": "stdout",
     "output_type": "stream",
     "text": [
      "Concept 0:\n",
      "car\n",
      "article\n",
      "cars\n",
      "engine\n",
      "callison\n",
      "know\n",
      "oil\n",
      "posting\n",
      "new\n",
      "state\n",
      " \n",
      "Concept 1:\n",
      "article\n",
      "v6\n",
      "kadett\n",
      "craig\n",
      "eliot\n",
      "v12\n",
      "cka52397\n",
      "v8\n",
      "engr washington\n",
      "sfu\n",
      " \n",
      "Concept 2:\n",
      "posting\n",
      "speed\n",
      "car\n",
      "dealer\n",
      "000758 53229\n",
      "virginia\n",
      "since\n",
      "new\n",
      "mid\n",
      "us\n",
      " \n",
      "Concept 3:\n",
      "much\n",
      "oil\n",
      "new\n",
      "000710 27408\n",
      "000337 10096 arc\n",
      "go\n",
      "heard\n",
      "washington\n",
      "speed\n",
      "cs\n",
      " \n",
      "Concept 4:\n",
      "cars\n",
      "work\n",
      "000710 27408\n",
      "000710\n",
      "year\n",
      "price\n",
      "car\n",
      "small\n",
      "v12\n",
      "000337 10096 arc\n",
      " \n",
      "Concept 5:\n",
      "car\n",
      "james\n",
      "000758\n",
      "engine\n",
      "ford\n",
      "probe\n",
      "much\n",
      "world\n",
      "pretty\n",
      "model\n",
      " \n",
      "Concept 6:\n",
      "engine\n",
      "something\n",
      "000337 10096 arc\n",
      "autos\n",
      "back\n",
      "car\n",
      "000710 27408\n",
      "posting\n",
      "hand\n",
      "years\n",
      " \n",
      "Concept 7:\n",
      "engine\n",
      "right\n",
      "drive\n",
      "car\n",
      "speed\n",
      "000710\n",
      "ecn\n",
      "make\n",
      "washington\n",
      "article\n",
      " \n",
      "Concept 8:\n",
      "car\n",
      "distribution\n",
      "000758\n",
      "s4\n",
      "tires\n",
      "people\n",
      "world\n",
      "turbo\n",
      "callison\n",
      "oil\n",
      " \n",
      "Concept 9:\n",
      "car\n",
      "posting\n",
      "computer\n",
      "alarm\n",
      "eliot\n",
      "insurance\n",
      "000710\n",
      "work\n",
      "people\n",
      "last\n",
      " \n"
     ]
    }
   ],
   "source": [
    "terms = vectorizer.get_feature_names()\n",
    "for i, comp in enumerate(lsa.components_): \n",
    "    termsInComp = zip (terms,comp)\n",
    "    sortedTerms =  sorted(termsInComp, key=lambda x: x[1], reverse=True) [:10]\n",
    "    print(\"Concept %d:\" % i)\n",
    "    for term in sortedTerms:\n",
    "        print (term[0])\n",
    "    print(\" \")"
   ]
  },
  {
   "cell_type": "markdown",
   "metadata": {
    "collapsed": true
   },
   "source": [
    "<li> Looks like they were talking about cars/engine/oil/speed in some state/dealer/virginia \n",
    "with make/tires/distribution/insurance from some people/posting/computer/world"
   ]
  },
  {
   "cell_type": "code",
   "execution_count": null,
   "metadata": {
    "collapsed": true
   },
   "outputs": [],
   "source": []
  }
 ],
 "metadata": {
  "anaconda-cloud": {},
  "kernelspec": {
   "display_name": "Python [conda root]",
   "language": "python",
   "name": "conda-root-py"
  },
  "language_info": {
   "codemirror_mode": {
    "name": "ipython",
    "version": 3
   },
   "file_extension": ".py",
   "mimetype": "text/x-python",
   "name": "python",
   "nbconvert_exporter": "python",
   "pygments_lexer": "ipython3",
   "version": "3.5.2"
  }
 },
 "nbformat": 4,
 "nbformat_minor": 1
}
